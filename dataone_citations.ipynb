{
 "cells": [
  {
   "cell_type": "code",
   "execution_count": 9,
   "metadata": {},
   "outputs": [
    {
     "name": "stdout",
     "output_type": "stream",
     "text": [
      "ENTRYTYPE,ID,year,journal,booktitle,volume,pages,publisher,eprint,url,title,author,abstract,url_scholarbib\n"
     ]
    }
   ],
   "source": [
    "import scholarly\n",
    "import csv\n",
    "import sys\n",
    "from pprint import pprint \n",
    "\n",
    "def pubToCSV(writer, pub):\n",
    "    \"\"\"\n",
    "    Print the pub in a CSV format suitable for loading into a spreadsheet.\n",
    "    \"\"\"\n",
    "    pass\n",
    "    \n",
    "\n",
    "dq = scholarly.search_pubs_query(\"DataONE\")\n",
    "#dq = scholarly.search_keyword(\"Biodiversity\")\n",
    "counter = 0\n",
    "fields = [\n",
    "    \"ENTRYTYPE\", \n",
    "    \"ID\",\n",
    "    \"year\",\n",
    "    \"journal\",\n",
    "    \"booktitle\",\n",
    "    \"volume\",\n",
    "    \"pages\",\n",
    "    \"publisher\",\n",
    "    \"eprint\",\n",
    "    \"url\",\n",
    "    \"title\",\n",
    "    \"author\",\n",
    "    \"abstract\",\n",
    "    \"url_scholarbib\",    \n",
    "]\n",
    "outf = sys.stdout\n",
    "writer = csv.DictWriter(outf, fields, restval=\"missing\", extrasaction=\"ignore\")\n",
    "writer.writeheader()\n",
    "for pub in dq:\n",
    "    pub.fill()\n",
    "    writer.writerow(pub.bib)\n",
    "    sys.stdout.flush()\n",
    "    print(pub)\n",
    "    #bibtex = scholarly.scholarly._get_page(pub.url_scholarbib)\n",
    "    #print(bibtex)\n",
    "    if counter > 5:\n",
    "        break\n"
   ]
  },
  {
   "cell_type": "code",
   "execution_count": null,
   "metadata": {},
   "outputs": [],
   "source": [
    "\n",
    "\n",
    "counter = 1\n",
    "for pub in dq:\n",
    "    print(f\"{counter:04d} {pub.bib['title']}\")\n",
    "    print(pub)\n",
    "    bibtex = scholarly.scholarly._get_page(pub.url_scholarbib)\n",
    "    print(bibtex)\n",
    "    #pub.fill()\n",
    "    #print(pub)\n",
    "    counter = counter + 1\n",
    "    if counter > 5:\n",
    "          break\n",
    "print(\"done.\")"
   ]
  },
  {
   "cell_type": "code",
   "execution_count": null,
   "metadata": {},
   "outputs": [],
   "source": []
  },
  {
   "cell_type": "code",
   "execution_count": null,
   "metadata": {},
   "outputs": [],
   "source": []
  }
 ],
 "metadata": {
  "kernelspec": {
   "display_name": "Python 3",
   "language": "python",
   "name": "python3"
  },
  "language_info": {
   "codemirror_mode": {
    "name": "ipython",
    "version": 3
   },
   "file_extension": ".py",
   "mimetype": "text/x-python",
   "name": "python",
   "nbconvert_exporter": "python",
   "pygments_lexer": "ipython3",
   "version": "3.7.3"
  }
 },
 "nbformat": 4,
 "nbformat_minor": 2
}
