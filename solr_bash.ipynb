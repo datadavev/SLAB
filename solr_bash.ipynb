{
 "cells": [
  {
   "cell_type": "code",
   "execution_count": 18,
   "metadata": {},
   "outputs": [],
   "source": [
    "do_request() {\n",
    "  #Expects ${query} to be the complete SOLR query string. Note that for BASH, it\n",
    "  # is necessary to escape double quotes. e.g. for a query:\n",
    "  #   name:\"some text\"\n",
    "  # it is necessary to escape like:\n",
    "  #   name:\\\"some text\\\"\n",
    "  # The string sent by curl would then be in the proper form\n",
    "  #\n",
    "  #Wrap the query string in quotes for curl, https://linux.die.net/man/1/curl\n",
    "  local Q=\"\\\"${query}\\\"\"\n",
    "  echo \"QUERY for curl = ${Q}\"\n",
    "  echo \"======\"\n",
    "  curl -F \"q=${Q}\" \\\n",
    "       -F fl=id,title,formatType  \\\n",
    "       -F indent=2 \\\n",
    "       -F rows=3 \\\n",
    "       -X POST https://dev.nceas.ucsb.edu/knb/d1/mn/v2/query/solr/\n",
    "}\n",
    "\n"
   ]
  },
  {
   "cell_type": "code",
   "execution_count": 19,
   "metadata": {},
   "outputs": [
    {
     "name": "stdout",
     "output_type": "stream",
     "text": [
      "QUERY for curl = \"*:*\"\n",
      "======\n",
      "<?xml version=\"1.0\" encoding=\"UTF-8\"?>\n",
      "<response>\n",
      "\n",
      "<lst name=\"responseHeader\">\n",
      "  <int name=\"status\">0</int>\n",
      "  <int name=\"QTime\">16</int>\n",
      "  <lst name=\"params\">\n",
      "    <str name=\"fq\">(readPermission:\"public\")OR(isPublic:true)</str>\n",
      "    <str name=\"q\">*:*</str>\n",
      "    <str name=\"indent\">2</str>\n",
      "    <str name=\"fl\">id,title,formatType</str>\n",
      "    <str name=\"rows\">3</str>\n",
      "  </lst>\n",
      "</lst>\n",
      "<result name=\"response\" numFound=\"124594\" start=\"0\">\n",
      "  <doc>\n",
      "    <str name=\"id\">urn:uuid:6dad3b4d-4e5b-41ad-ad0b-7cc2930dccf2</str>\n",
      "    <str name=\"formatType\">DATA</str>\n",
      "    <str name=\"title\">Lauren's test project - updated</str>\n",
      "  </doc>\n",
      "  <doc>\n",
      "    <str name=\"id\">urn:uuid:270def97-b51c-4c9c-be15-dd5f4baad5ca</str>\n",
      "    <str name=\"formatType\">DATA</str>\n",
      "    <str name=\"title\">Lauren's test project - updated</str>\n",
      "  </doc>\n",
      "  <doc>\n",
      "    <str name=\"id\">urn:uuid:0bff182e-558d-4c70-a7c6-5e3b8da88963</str>\n",
      "    <str name=\"formatType\">DATA</str>\n",
      "    <str name=\"title\">Lauren's test project</str>\n",
      "  </doc>\n",
      "</result>\n",
      "</response>\n"
     ]
    }
   ],
   "source": [
    "query='*:*'\n",
    "do_request "
   ]
  },
  {
   "cell_type": "code",
   "execution_count": 20,
   "metadata": {},
   "outputs": [
    {
     "name": "stdout",
     "output_type": "stream",
     "text": [
      "QUERY for curl = \"(formatType:METADATA)\"\n",
      "======\n",
      "<?xml version=\"1.0\" encoding=\"UTF-8\"?>\n",
      "<response>\n",
      "\n",
      "<lst name=\"responseHeader\">\n",
      "  <int name=\"status\">0</int>\n",
      "  <int name=\"QTime\">14</int>\n",
      "  <lst name=\"params\">\n",
      "    <str name=\"fq\">(readPermission:\"public\")OR(isPublic:true)</str>\n",
      "    <str name=\"q\">(formatType:METADATA)</str>\n",
      "    <str name=\"indent\">2</str>\n",
      "    <str name=\"fl\">id,title,formatType</str>\n",
      "    <str name=\"rows\">3</str>\n",
      "  </lst>\n",
      "</lst>\n",
      "<result name=\"response\" numFound=\"16687\" start=\"0\">\n",
      "  <doc>\n",
      "    <str name=\"id\">urn:uuid:68152f98-d76d-4dde-bb65-b26c8c794f4b</str>\n",
      "    <str name=\"formatType\">METADATA</str>\n",
      "    <str name=\"title\">Physical and Chemical Properties from Selected Expeditions in the Arctic Ocean</str>\n",
      "  </doc>\n",
      "  <doc>\n",
      "    <str name=\"id\">urn:uuid:800ec528-9adc-4ecf-baa9-626fe170bf6d</str>\n",
      "    <str name=\"formatType\">METADATA</str>\n",
      "    <str name=\"title\">SCICEX Hydrographic Data, 1993</str>\n",
      "  </doc>\n",
      "  <doc>\n",
      "    <str name=\"id\">urn:uuid:a00de14f-898e-44b3-ba29-5357b4e57c56</str>\n",
      "    <str name=\"formatType\">METADATA</str>\n",
      "    <str name=\"title\">Svalbard Site Species Data [Robinson, Wookey]</str>\n",
      "  </doc>\n",
      "</result>\n",
      "</response>\n"
     ]
    }
   ],
   "source": [
    "query='(formatType:METADATA)'\n",
    "do_request "
   ]
  },
  {
   "cell_type": "code",
   "execution_count": 16,
   "metadata": {},
   "outputs": [
    {
     "name": "stdout",
     "output_type": "stream",
     "text": [
      " query = {-obsoletedBy:*}\n",
      "QUERY for curl = \"-obsoletedBy:*\"\n",
      "======\n",
      "<?xml version=\"1.0\" encoding=\"UTF-8\"?>\n",
      "<response>\n",
      "\n",
      "<lst name=\"responseHeader\">\n",
      "  <int name=\"status\">0</int>\n",
      "  <int name=\"QTime\">26</int>\n",
      "  <lst name=\"params\">\n",
      "    <str name=\"fq\">(readPermission:\"public\")OR(isPublic:true)</str>\n",
      "    <str name=\"q\">-obsoletedBy:*</str>\n",
      "    <str name=\"indent\">2</str>\n",
      "    <str name=\"fl\">id,title,formatType</str>\n",
      "    <str name=\"rows\">3</str>\n",
      "  </lst>\n",
      "</lst>\n",
      "<result name=\"response\" numFound=\"120709\" start=\"0\">\n",
      "  <doc>\n",
      "    <str name=\"id\">urn:uuid:5d989a9e-285b-4419-ae9a-c9e595b087a4</str>\n",
      "    <str name=\"formatType\">DATA</str>\n",
      "    <str name=\"title\">Lauren's test project</str>\n",
      "  </doc>\n",
      "  <doc>\n",
      "    <str name=\"id\">urn:uuid:ae353bde-bad9-11e9-a2a3-2a2ae2dbcce4</str>\n",
      "    <str name=\"formatType\">DATA</str>\n",
      "    <str name=\"title\">State of Alaska's Salmon and People</str>\n",
      "  </doc>\n",
      "  <doc>\n",
      "    <str name=\"id\">urn:uuid:f140a97a-3e66-455e-8303-3e43878ee1f4</str>\n",
      "    <str name=\"formatType\">DATA</str>\n",
      "  </doc>\n",
      "</result>\n",
      "</response>\n"
     ]
    }
   ],
   "source": [
    "query='-obsoletedBy:* AND (id:(\\\"urn:uuid:0163b16e-4718-4e6c-89b4-42f6eb30c6cf\\\" OR \\\"urn:uuid:056be5dc-cbde-4a4d-9540-92e495b755d2\\\") OR seriesId:(\\\"urn:uuid:0163b16e-4718-4e6c-89b4-42f6eb30c6cf\\\" OR \\\"urn:uuid:056be5dc-cbde-4a4d-9540-92e495b755d2\\\")) AND (formatType:METADATA OR formatType:DATA)'\n",
    "do_request"
   ]
  },
  {
   "cell_type": "code",
   "execution_count": null,
   "metadata": {},
   "outputs": [],
   "source": []
  }
 ],
 "metadata": {
  "kernelspec": {
   "display_name": "Bash",
   "language": "bash",
   "name": "bash"
  },
  "language_info": {
   "codemirror_mode": "shell",
   "file_extension": ".sh",
   "mimetype": "text/x-sh",
   "name": "bash"
  }
 },
 "nbformat": 4,
 "nbformat_minor": 4
}
