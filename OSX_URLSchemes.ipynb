{
 "cells": [
  {
   "cell_type": "markdown",
   "metadata": {},
   "source": [
    "Investigating URL Scheme listing, registration, de-registration on OS X\n",
    "\n",
    "On a fresh conda install, `pip install pyobjc`\n",
    "\n",
    "Dump the registry to a txt file:\n",
    "```bash\n",
    "# Dump the registry\n",
    "/System/Library/Frameworks/CoreServices.framework/Frameworks/LaunchServices.framework/Support/lsregister -dump > lsdump.txt\n",
    "```\n",
    "\n",
    "Get a list of URL Schemes from the registry dump:\n",
    "```bash\n",
    "# List of schemes\n",
    "cat lsdump.txt | egrep \"bindings:\\s*(\\w*:)\" \\\n",
    "  | awk '{gsub(\"bindings:\", \"\"); gsub(\",\", \"\"); $1=$1; gsub(\" \",\"\\n\"); print}' \\\n",
    "  | sort \\\n",
    "  | uniq > schemes.txt\n",
    "```\n",
    "\n",
    "Now use pyobjc to get info about the URL schemes."
   ]
  },
  {
   "cell_type": "code",
   "execution_count": 13,
   "metadata": {},
   "outputs": [
    {
     "name": "stdout",
     "output_type": "stream",
     "text": [
      "['/Applications/Google Chrome.app']\n",
      "['/Applications/Google Chrome.app']\n"
     ]
    }
   ],
   "source": [
    "import os\n",
    "from Foundation import NSBundle, NSURL\n",
    "from CoreServices import LaunchServices\n",
    "import subprocess\n",
    "\n",
    "def getBundleAppsMDFind(bundle_id):\n",
    "    \"\"\"Uses mdfind to search for apps associated with a BundleId\n",
    "    \"\"\"\n",
    "    cmd = [\"mdfind\", f\"kMDItemCFBundleIdentifier == {bundle_id}\",]\n",
    "    res = subprocess.run(\n",
    "            cmd, \n",
    "            capture_output=True, \n",
    "            encoding=\"utf-8\").stdout.strip().split(\"\\n\")\n",
    "    return list(map(str.strip, res))\n",
    "\n",
    "\n",
    "def getBundleApps(bundle_id):\n",
    "    \"\"\"Uses the API method directly to get Application URLs for the bundleId\n",
    "    \"\"\"\n",
    "    res = LaunchServices.LSCopyApplicationURLsForBundleIdentifier(bundle_id, None)[0]\n",
    "    return list(map(NSURL.path, res))\n",
    "\n",
    "\n",
    "print(getBundleAppsMDFind(\"com.google.Chrome\"))\n",
    "print(getBundleApps(\"com.google.Chrome\"))"
   ]
  },
  {
   "cell_type": "code",
   "execution_count": 14,
   "metadata": {},
   "outputs": [
    {
     "name": "stdout",
     "output_type": "stream",
     "text": [
      "---\n",
      "acrobat2018:\n",
      "  * com.adobe.Acrobat.Pro\n",
      "    /Applications/Adobe Acrobat DC/Adobe Acrobat.app\n",
      "  com.adobe.Reader\n",
      "    /Applications/Adobe Acrobat Reader DC.app\n",
      "---\n",
      "acrobat:\n",
      "  * com.adobe.Reader\n",
      "    /Applications/Adobe Acrobat Reader DC.app\n",
      "  com.adobe.Acrobat.Pro\n",
      "    /Applications/Adobe Acrobat DC/Adobe Acrobat.app\n",
      "---\n",
      "adbps:\n",
      "  * com.adobe.Photoshop\n",
      "    /Applications/Adobe Photoshop 2020/Adobe Photoshop 2020.app\n",
      "---\n",
      "addressbook:\n",
      "  * com.apple.AddressBook\n",
      "    /System/Applications/Contacts.app\n",
      "---\n",
      "afp:\n",
      "  * com.apple.finder\n",
      "    /System/Library/CoreServices/Finder.app\n",
      "  com.cocoatech.PathFinder\n",
      "    /Users/vieglais/Applications/Path Finder.app\n"
     ]
    }
   ],
   "source": [
    "schemes = open(os.path.expanduser(\"~/tmp/schemes.txt\")).readlines()\n",
    "#just printing out the first 5 here\n",
    "for scheme in schemes[0:5]:\n",
    "    scheme = scheme.replace(\":\",\"\").strip()\n",
    "    # request all the handlers for a scheme, returns a list of bundle identifiers\n",
    "    res = LaunchServices.LSCopyAllHandlersForURLScheme(scheme)\n",
    "    # Get the default handler for a scheme\n",
    "    def_handler = LaunchServices.LSCopyDefaultHandlerForURLScheme(scheme)\n",
    "    print(\"---\")\n",
    "    print(f\"{scheme}:\")\n",
    "    if not res is None:\n",
    "        for handler in res:\n",
    "            isdef = \"\"\n",
    "            if handler == def_handler:\n",
    "                isdef = \"* \"\n",
    "            print(f\"  {isdef}{handler}\")\n",
    "            # Also print out the app(s) associated with the provided bundleId\n",
    "            apps = getBundleApps(handler)\n",
    "            for app in apps:\n",
    "                print(f\"    {app}\")\n",
    "    \n"
   ]
  },
  {
   "cell_type": "code",
   "execution_count": null,
   "metadata": {},
   "outputs": [],
   "source": []
  }
 ],
 "metadata": {
  "kernelspec": {
   "display_name": "Python 3",
   "language": "python",
   "name": "python3"
  },
  "language_info": {
   "codemirror_mode": {
    "name": "ipython",
    "version": 3
   },
   "file_extension": ".py",
   "mimetype": "text/x-python",
   "name": "python",
   "nbconvert_exporter": "python",
   "pygments_lexer": "ipython3",
   "version": "3.7.6"
  }
 },
 "nbformat": 4,
 "nbformat_minor": 4
}
