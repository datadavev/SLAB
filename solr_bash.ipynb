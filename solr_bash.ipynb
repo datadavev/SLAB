{
 "cells": [
  {
   "cell_type": "code",
   "execution_count": 26,
   "metadata": {},
   "outputs": [],
   "source": [
    "do_request() {\n",
    "  #Expects ${@} to be the complete SOLR query string. Note that for BASH, it\n",
    "  # is necessary to escape double quotes. e.g. for a query:\n",
    "  #   name:\"some text\"\n",
    "  # it is necessary to escape like:\n",
    "  #   name:\\\"some text\\\"\n",
    "  # The string sent by curl would then be in the proper form\n",
    "  #\n",
    "  #Wrap the query string in quotes for curl, https://linux.die.net/man/1/curl\n",
    "  local Q=\"\\\"${@}\\\"\"\n",
    "  echo \"QUERY for curl = ${Q}\"\n",
    "  echo \"======\"\n",
    "  curl -F \"q=${Q}\" \\\n",
    "       -F fl=id,title,formatType  \\\n",
    "       -F indent=2 -F wt=json \\\n",
    "       -F rows=3 \\\n",
    "       -X POST https://dev.nceas.ucsb.edu/knb/d1/mn/v2/query/solr/\n",
    "}\n",
    "\n"
   ]
  },
  {
   "cell_type": "code",
   "execution_count": 27,
   "metadata": {},
   "outputs": [
    {
     "name": "stdout",
     "output_type": "stream",
     "text": [
      "QUERY for curl = \"*:*\"\n",
      "======\n",
      "{\n",
      "  \"responseHeader\":{\n",
      "    \"status\":0,\n",
      "    \"QTime\":16,\n",
      "    \"params\":{\n",
      "      \"fq\":\"(readPermission:\\\"public\\\")OR(isPublic:true)\",\n",
      "      \"q\":\"*:*\",\n",
      "      \"indent\":\"2\",\n",
      "      \"fl\":\"id,title,formatType\",\n",
      "      \"rows\":\"3\",\n",
      "      \"wt\":\"json\"}},\n",
      "  \"response\":{\"numFound\":124594,\"start\":0,\"docs\":[\n",
      "      {\n",
      "        \"id\":\"urn:uuid:6dad3b4d-4e5b-41ad-ad0b-7cc2930dccf2\",\n",
      "        \"formatType\":\"DATA\",\n",
      "        \"title\":\"Lauren's test project - updated\"},\n",
      "      {\n",
      "        \"id\":\"urn:uuid:270def97-b51c-4c9c-be15-dd5f4baad5ca\",\n",
      "        \"formatType\":\"DATA\",\n",
      "        \"title\":\"Lauren's test project - updated\"},\n",
      "      {\n",
      "        \"id\":\"urn:uuid:0bff182e-558d-4c70-a7c6-5e3b8da88963\",\n",
      "        \"formatType\":\"DATA\",\n",
      "        \"title\":\"Lauren's test project\"}]\n",
      "  }}"
     ]
    }
   ],
   "source": [
    "query='*:*'\n",
    "do_request ${query}"
   ]
  },
  {
   "cell_type": "code",
   "execution_count": 28,
   "metadata": {},
   "outputs": [
    {
     "name": "stdout",
     "output_type": "stream",
     "text": [
      "QUERY for curl = \"(formatType:METADATA)\"\n",
      "======\n",
      "{\n",
      "  \"responseHeader\":{\n",
      "    \"status\":0,\n",
      "    \"QTime\":14,\n",
      "    \"params\":{\n",
      "      \"fq\":\"(readPermission:\\\"public\\\")OR(isPublic:true)\",\n",
      "      \"q\":\"(formatType:METADATA)\",\n",
      "      \"indent\":\"2\",\n",
      "      \"fl\":\"id,title,formatType\",\n",
      "      \"rows\":\"3\",\n",
      "      \"wt\":\"json\"}},\n",
      "  \"response\":{\"numFound\":16687,\"start\":0,\"docs\":[\n",
      "      {\n",
      "        \"id\":\"urn:uuid:68152f98-d76d-4dde-bb65-b26c8c794f4b\",\n",
      "        \"formatType\":\"METADATA\",\n",
      "        \"title\":\"Physical and Chemical Properties from Selected Expeditions in the Arctic Ocean\"},\n",
      "      {\n",
      "        \"id\":\"urn:uuid:800ec528-9adc-4ecf-baa9-626fe170bf6d\",\n",
      "        \"formatType\":\"METADATA\",\n",
      "        \"title\":\"SCICEX Hydrographic Data, 1993\"},\n",
      "      {\n",
      "        \"id\":\"urn:uuid:a00de14f-898e-44b3-ba29-5357b4e57c56\",\n",
      "        \"formatType\":\"METADATA\",\n",
      "        \"title\":\"Svalbard Site Species Data [Robinson, Wookey]\"}]\n",
      "  }}"
     ]
    }
   ],
   "source": [
    "query='(formatType:METADATA)'\n",
    "do_request ${query}"
   ]
  },
  {
   "cell_type": "code",
   "execution_count": 29,
   "metadata": {},
   "outputs": [
    {
     "name": "stdout",
     "output_type": "stream",
     "text": [
      "QUERY for curl = \"-obsoletedBy:* AND (id:(\\\"urn:uuid:0163b16e-4718-4e6c-89b4-42f6eb30c6cf\\\" OR \\\"urn:uuid:056be5dc-cbde-4a4d-9540-92e495b755d2\\\") OR seriesId:(\\\"urn:uuid:0163b16e-4718-4e6c-89b4-42f6eb30c6cf\\\" OR \\\"urn:uuid:056be5dc-cbde-4a4d-9540-92e495b755d2\\\")) AND (formatType:METADATA OR formatType:DATA)\"\n",
      "======\n",
      "{\n",
      "  \"responseHeader\":{\n",
      "    \"status\":0,\n",
      "    \"QTime\":19,\n",
      "    \"params\":{\n",
      "      \"fq\":\"(readPermission:\\\"public\\\")OR(isPublic:true)\",\n",
      "      \"q\":\"-obsoletedBy:* AND (id:(\\\"urn:uuid:0163b16e-4718-4e6c-89b4-42f6eb30c6cf\\\" OR \\\"urn:uuid:056be5dc-cbde-4a4d-9540-92e495b755d2\\\") OR seriesId:(\\\"urn:uuid:0163b16e-4718-4e6c-89b4-42f6eb30c6cf\\\" OR \\\"urn:uuid:056be5dc-cbde-4a4d-9540-92e495b755d2\\\")) AND (formatType:METADATA OR formatType:DATA)\",\n",
      "      \"indent\":\"2\",\n",
      "      \"fl\":\"id,title,formatType\",\n",
      "      \"rows\":\"3\",\n",
      "      \"wt\":\"json\"}},\n",
      "  \"response\":{\"numFound\":2,\"start\":0,\"docs\":[\n",
      "      {\n",
      "        \"id\":\"urn:uuid:0163b16e-4718-4e6c-89b4-42f6eb30c6cf\",\n",
      "        \"formatType\":\"METADATA\",\n",
      "        \"title\":\"Summary data of subsistence salmon catch from in-season fish camp surveys, Lower Kuskokwim River, Alaska, 2009-2016\"},\n",
      "      {\n",
      "        \"id\":\"urn:uuid:056be5dc-cbde-4a4d-9540-92e495b755d2\",\n",
      "        \"formatType\":\"METADATA\",\n",
      "        \"title\":\"Slope per SASAP region and Hydrolic Unit (HUC8) boundary for Alaskan watersheds\"}]\n",
      "  }}"
     ]
    }
   ],
   "source": [
    "query='-obsoletedBy:* AND (id:(\\\"urn:uuid:0163b16e-4718-4e6c-89b4-42f6eb30c6cf\\\" OR \\\"urn:uuid:056be5dc-cbde-4a4d-9540-92e495b755d2\\\") OR seriesId:(\\\"urn:uuid:0163b16e-4718-4e6c-89b4-42f6eb30c6cf\\\" OR \\\"urn:uuid:056be5dc-cbde-4a4d-9540-92e495b755d2\\\")) AND (formatType:METADATA OR formatType:DATA)'\n",
    "do_request ${query}"
   ]
  },
  {
   "cell_type": "code",
   "execution_count": null,
   "metadata": {},
   "outputs": [],
   "source": []
  }
 ],
 "metadata": {
  "kernelspec": {
   "display_name": "Bash",
   "language": "bash",
   "name": "bash"
  },
  "language_info": {
   "codemirror_mode": "shell",
   "file_extension": ".sh",
   "mimetype": "text/x-sh",
   "name": "bash"
  }
 },
 "nbformat": 4,
 "nbformat_minor": 4
}
