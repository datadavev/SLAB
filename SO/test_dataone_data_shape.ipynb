{
 "cells": [
  {
   "cell_type": "markdown",
   "metadata": {},
   "source": [
    "# Test a `schema.org/Dataset` for DataONE compatibility\n",
    "\n",
    "This script uses rdflib and pySHACL to evaluate whether a json-ld structure can be harvested by DataONE.\n",
    "\n",
    "**NOTE:** This is a work in progress and does not necessarily correspond to the actual solution and requirements.\n",
    "\n",
    "References:\n",
    "\n",
    "* SHACL : https://www.w3.org/TR/shacl/\n",
    "* Turtle: https://www.w3.org/TeamSubmission/turtle/\n",
    "* pySHACL : https://github.com/RDFLib/pySHACL\n",
    "\n",
    "\n"
   ]
  },
  {
   "cell_type": "code",
   "execution_count": 32,
   "metadata": {},
   "outputs": [],
   "source": [
    "import io\n",
    "import rdflib\n",
    "import rdflib.tools.rdf2dot\n",
    "import graphviz\n",
    "import pyshacl\n",
    "from pprint import pprint\n",
    "\n",
    "def renderGraph(g):\n",
    "    fp = io.StringIO()\n",
    "    rdflib.tools.rdf2dot.rdf2dot(g, fp)\n",
    "    return graphviz.Source(fp.getvalue())    \n",
    "\n",
    "\n",
    "def getDatasets(data_graph):\n",
    "    \"\"\"\n",
    "    Return True if the provided data_graph is an instance of schema.org/Dataset\n",
    "    \"\"\"\n",
    "    q = \"\"\"PREFIX rdf:      <http://www.w3.org/1999/02/22-rdf-syntax-ns#>\n",
    "    PREFIX schema:   <http://schema.org/>\n",
    "\n",
    "    SELECT ?x \n",
    "    WHERE { \n",
    "        ?x rdf:type schema:Dataset .\n",
    "    }\n",
    "    \"\"\"\n",
    "    qres = data_graph.query(q)\n",
    "    print(qres)\n",
    "    #return qres\n",
    "    return len(qres) >= 1\n",
    "\n",
    "\n",
    "def evaluateShape(data_graph, shape_graph_file=\"dataset_shape.ttl\"):\n",
    "    shape_0 = rdflib.Graph()\n",
    "    shape_0.parse(shape_graph_file, format=\"turtle\")\n",
    "    conforms, results_graph, results_text = pyshacl.validate(\n",
    "        data_graph, \n",
    "        shacl_graph=shape_0, \n",
    "        inference=\"rdfs\", \n",
    "        meta_shacl=False, \n",
    "        abort_on_error=False, \n",
    "        debug=False\n",
    "    )\n",
    "    return conforms, results_graph, results_text\n",
    "\n",
    "    "
   ]
  },
  {
   "cell_type": "markdown",
   "metadata": {},
   "source": [
    "Define a basic Dataset structure in json-ld:"
   ]
  },
  {
   "cell_type": "code",
   "execution_count": 33,
   "metadata": {},
   "outputs": [
    {
     "data": {
      "text/plain": [
       "<Graph identifier=Ncbc230a3a29040618e8105ca3c3687b2 (<class 'rdflib.graph.Graph'>)>"
      ]
     },
     "execution_count": 33,
     "metadata": {},
     "output_type": "execute_result"
    }
   ],
   "source": [
    "data00 = b\"\"\"{\n",
    "    \"@context\":{ \n",
    "        \"@vocab\": \"http://schema.org/\",\n",
    "        \"datacite\": \"http://purl.org/spar/datacite/\"\n",
    "    },\n",
    "    \"@id\":\"ex:my_data\",\n",
    "    \"@type\": \"Dataset\",\n",
    "    \n",
    "    \"identifier\": {\n",
    "        \"@type\": [\"PropertyValue\", \"datacite:ResourceIdentifier\"],\n",
    "        \"datacite:usesIdentifierScheme\": { \n",
    "            \"@id\": \"datacite:doi\" \n",
    "        },\n",
    "        \"propertyId\":\"DOI\",\n",
    "        \"url\": \"https://doi.org/10.1234/abcd\",\n",
    "        \"value\": \"10.1234/abcd\"\n",
    "    },\n",
    "    \"encoding\":{\n",
    "        \"@type\": \"MediaObject\",\n",
    "        \"contentUrl\":\"https://example.org/link/to/iso.xml\",\n",
    "        \"encodingFormat\":\"http://www.isotc211.org/2005/gmd\",\n",
    "        \"description\":\"ISO TC211 XML rendering of metadata.\",\n",
    "        \"dateModified\":\"2019-06-12T14:44:15Z\"\n",
    "    },\n",
    "    \"distribution\": [\n",
    "        {\n",
    "            \"@type\":\"DataDownload\",\n",
    "            \"contentUrl\": \"https://example.org/link/to/data\",\n",
    "            \"encodingFormat\":\"data format\",\n",
    "            \"identifier\": {\n",
    "                \"@type\": [\"PropertyValue\", \"datacite:ResourceIdentifier\"],\n",
    "                \"datacite:usesIdentifierScheme\": { \n",
    "                    \"@id\": \"datacite:doi\" \n",
    "                },\n",
    "                \"propertyId\":\"DOI\",\n",
    "                \"url\": \"https://doi.org/10.1234/blh\",\n",
    "                \"value\": \"10.1234/blah\"\n",
    "            },\n",
    "            \"encoding\": {\n",
    "                \"@type\": \"MediaObject\",\n",
    "                \"contentUrl\":\"https://example.org/link/to/data.csv\",\n",
    "                \"encodingFormat\":\"text/csv\",\n",
    "                \"description\":\"Comma separated data\",\n",
    "                \"dateModified\":\"2019-06-12T14:44:15Z\"            \n",
    "            }\n",
    "        }\n",
    "    ]\n",
    "}\n",
    "\"\"\"\n",
    "data00_graph = rdflib.Graph()\n",
    "data00_graph.parse(io.BytesIO(data00), format=\"json-ld\")\n",
    "#gv = renderGraph(data00_graph)\n",
    "#gv"
   ]
  },
  {
   "cell_type": "markdown",
   "metadata": {},
   "source": [
    "Verify that the data graph contains a Dataset instance:"
   ]
  },
  {
   "cell_type": "code",
   "execution_count": 35,
   "metadata": {},
   "outputs": [
    {
     "name": "stdout",
     "output_type": "stream",
     "text": [
      "<rdflib.plugins.sparql.processor.SPARQLResult object at 0x10860b438>\n",
      "The provided graph contains this many Dataset instances: True\n"
     ]
    }
   ],
   "source": [
    "data_graphs = getDatasets(data00_graph)\n",
    "print(f\"The provided graph contains this many Dataset instances: {data_graphs}\")"
   ]
  },
  {
   "cell_type": "markdown",
   "metadata": {},
   "source": [
    "Evaluate the loaded graph against a Dataset SHACL shape."
   ]
  },
  {
   "cell_type": "code",
   "execution_count": 37,
   "metadata": {},
   "outputs": [
    {
     "name": "stdout",
     "output_type": "stream",
     "text": [
      "The data graph is of the required shape: False\n",
      "Validation Report\n",
      "Conforms: False\n",
      "Results (4):\n",
      "Constraint Violation in OrConstraintComponent (http://www.w3.org/ns/shacl#OrConstraintComponent):\n",
      "\tSeverity: sh:Violation\n",
      "\tSource Shape: d1:IdentifierShape\n",
      "\tFocus Node: [ ]\n",
      "\tValue Node: [ ]\n",
      "\tMessage: An identifier should be an xsd:string or of type schema:PropertyValue and datacite:ResourceIdentifier.\n",
      "Constraint Violation in NodeConstraintComponent (http://www.w3.org/ns/shacl#NodeConstraintComponent):\n",
      "\tSeverity: sh:Violation\n",
      "\tSource Shape: [ sh:minCount Literal(\"1\", datatype=xsd:integer) ; sh:node d1:IdentifierShape ; sh:path schema:identifier ]\n",
      "\tFocus Node: [ ]\n",
      "\tValue Node: [ ]\n",
      "\tResult Path: schema:identifier\n",
      "Constraint Violation in NodeConstraintComponent (http://www.w3.org/ns/shacl#NodeConstraintComponent):\n",
      "\tSeverity: sh:Violation\n",
      "\tSource Shape: [ sh:node d1:DistributionShape ; sh:path schema:distribution ]\n",
      "\tFocus Node: <ex:my_data>\n",
      "\tValue Node: [ ]\n",
      "\tResult Path: schema:distribution\n",
      "Constraint Report in MinCountConstraintComponent (http://www.w3.org/ns/shacl#MinCountConstraintComponent):\n",
      "\tSeverity: sh:Warning\n",
      "\tSource Shape: [ sh:message Literal(\"An identifier should indicate the type of identifier using the propertyId.\") ; sh:minCount Literal(\"1\", datatype=xsd:integer) ; sh:path schema:propertyId ; sh:severity sh:Warning ]\n",
      "\tFocus Node: [ ]\n",
      "\tResult Path: schema:propertyId\n",
      "\tMessage: An identifier should indicate the type of identifier using the propertyId.\n",
      "\n"
     ]
    }
   ],
   "source": [
    "conforms, results_graph, results_text = evaluateShape(data00_graph)\n",
    "\n",
    "print(f\"The data graph is of the required shape: {conforms}\")\n",
    "if not conforms:\n",
    "    print(results_text)\n"
   ]
  },
  {
   "cell_type": "markdown",
   "metadata": {},
   "source": [
    "Evaluate a data graph that does not comply because it does not have an identifier:"
   ]
  },
  {
   "cell_type": "code",
   "execution_count": 9,
   "metadata": {},
   "outputs": [
    {
     "name": "stdout",
     "output_type": "stream",
     "text": [
      "The data graph contains a Dataset: True\n",
      "The data graph is of the required shape: False\n",
      "\n",
      "Validation Report\n",
      "Conforms: False\n",
      "Results (3):\n",
      "Constraint Violation in MinCountConstraintComponent (http://www.w3.org/ns/shacl#MinCountConstraintComponent):\n",
      "\tSeverity: sh:Violation\n",
      "\tSource Shape: [ sh:minCount Literal(\"1\", datatype=xsd:integer) ; sh:path schema:identifier ]\n",
      "\tFocus Node: [ ]\n",
      "\tResult Path: schema:identifier\n",
      "Constraint Violation in NodeConstraintComponent (http://www.w3.org/ns/shacl#NodeConstraintComponent):\n",
      "\tSeverity: sh:Violation\n",
      "\tSource Shape: [ sh:node d1:DistributionShape ; sh:path schema:distribution ]\n",
      "\tFocus Node: <ex:my_data>\n",
      "\tValue Node: [ ]\n",
      "\tResult Path: schema:distribution\n",
      "Constraint Violation in MinCountConstraintComponent (http://www.w3.org/ns/shacl#MinCountConstraintComponent):\n",
      "\tSeverity: sh:Violation\n",
      "\tSource Shape: [ sh:message Literal(\"A dataset must have an identifier.\", lang=en) ; sh:minCount Literal(\"1\", datatype=xsd:integer) ; sh:path schema:identifier ]\n",
      "\tFocus Node: <ex:my_data>\n",
      "\tResult Path: schema:identifier\n",
      "\tMessage: A dataset must have an identifier.\n",
      "\n"
     ]
    }
   ],
   "source": [
    "data01 = b\"\"\"{\n",
    "    \"@context\":{ \n",
    "        \"@vocab\": \"http://schema.org/\",\n",
    "        \"datacite\": \"http://purl.org/spar/datacite/\"\n",
    "    },\n",
    "    \"@id\":\"ex:my_data\",\n",
    "    \"@type\": \"Dataset\",\n",
    "    \n",
    "    \"encoding\":{\n",
    "        \"@type\": \"MediaObject\",\n",
    "        \"contentUrl\":\"https://example.org/link/to/iso.xml\",\n",
    "        \"encodingFormat\":\"http://www.isotc211.org/2005/gmd\",\n",
    "        \"description\":\"ISO TC211 XML rendering of metadata.\",\n",
    "        \"dateModified\":\"2019-06-12T14:44:15Z\"\n",
    "    },\n",
    "    \"distribution\": [\n",
    "        {\n",
    "            \"@type\":\"DataDownload\",\n",
    "            \"contentUrl\": \"https://example.org/link/to/data\",\n",
    "            \"encodingFormat\":\"data format\"\n",
    "        }\n",
    "    ]\n",
    "}\n",
    "\"\"\"\n",
    "data01_graph = rdflib.Graph()\n",
    "data01_graph.parse(io.BytesIO(data01), format=\"json-ld\")\n",
    "print(f\"The data graph contains a Dataset: {isDataset(data01_graph)}\")\n",
    "conforms, results_graph, results_text = evaluateShape(data01_graph)\n",
    "print(f\"The data graph is of the required shape: {conforms}\")\n",
    "if not conforms:\n",
    "    print()\n",
    "    print(results_text)\n"
   ]
  },
  {
   "cell_type": "code",
   "execution_count": 10,
   "metadata": {},
   "outputs": [
    {
     "name": "stdout",
     "output_type": "stream",
     "text": [
      "<rdflib.plugins.sparql.processor.SPARQLResult object at 0x10402c0f0>\n"
     ]
    }
   ],
   "source": [
    "q = \"\"\"PREFIX rdf:      <http://www.w3.org/1999/02/22-rdf-syntax-ns#>\n",
    "PREFIX schema:   <http://schema.org/>\n",
    "\n",
    "SELECT ?x \n",
    "WHERE { \n",
    "    ?x rdf:type schema:Dataset .\n",
    "}\n",
    "\"\"\"\n",
    "qres = data00_graph.query(q)\n",
    "pprint(qres)"
   ]
  },
  {
   "cell_type": "code",
   "execution_count": null,
   "metadata": {},
   "outputs": [],
   "source": []
  },
  {
   "cell_type": "code",
   "execution_count": null,
   "metadata": {},
   "outputs": [],
   "source": []
  }
 ],
 "metadata": {
  "kernelspec": {
   "display_name": "Python 3",
   "language": "python",
   "name": "python3"
  },
  "language_info": {
   "codemirror_mode": {
    "name": "ipython",
    "version": 3
   },
   "file_extension": ".py",
   "mimetype": "text/x-python",
   "name": "python",
   "nbconvert_exporter": "python",
   "pygments_lexer": "ipython3",
   "version": "3.7.3"
  }
 },
 "nbformat": 4,
 "nbformat_minor": 4
}
